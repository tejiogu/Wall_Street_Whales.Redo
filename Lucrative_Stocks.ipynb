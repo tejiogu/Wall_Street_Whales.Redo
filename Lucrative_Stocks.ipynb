{
 "cells": [
  {
   "cell_type": "code",
   "execution_count": null,
   "id": "cc5c6038-3a83-4307-8a4b-e90039ff85ec",
   "metadata": {},
   "outputs": [],
   "source": [
    "# Read the data from AAPL, AMZN, and GOOG\n",
    "\n",
    "aapl_data = pd.read_csv(\"aapl_historical.csv\", index_col=\"Date\", parse_dates=True)\n",
    "amzn_data = pd.read_csv(\"amzn_historical.csv\", index_col=\"Date\", parse_dates=True)\n",
    "goog_data = pd.read_csv(\"goog_historical.csv\", index_col=\"Date\", parse_dates=True)\n",
    "\n",
    "# Extract closing prices\n",
    "\n",
    "aapl_close = aapl_data['Close']\n",
    "amzn_close = amzn_data['Close']\n",
    "goog_close = goog_data['Close']\n",
    "\n",
    "# Create a new DataFrame with AAPL, AMZN, and GOOG closing prices\n",
    "\n",
    "df_lucrative_stocks = pd.DataFrame({\n",
    "    \"AAPL\": aapl_close,\n",
    "    \"AMZN\": amzn_close,\n",
    "    \"GOOG\": goog_close\n",
    "})\n",
    "\n",
    "# Drop any NaNs in the DataFrame\n",
    "\n",
    "df_lucrative_stocks.dropna(inplace=True)\n",
    "\n",
    "# Calculate daily returns\n",
    "\n",
    "df_lucrative_stocks_returns = df_lucrative_stocks.pct_change()\n",
    "\n",
    "# Drop any resulting NaNs\n",
    "\n",
    "df_lucrative_stocks_returns.dropna(inplace=True)\n",
    "\n",
    "# Set weights for the stocks, assume we invested 40% in AAPL, 30% in AMZN and 30% in GOOG\n",
    "\n",
    "weights = [0.4, 0.3, 0.3]\n",
    "\n",
    "# Calculate weighted returns\n",
    "\n",
    "df_lucrative_stocks_weighted_returns = df_lucrative_stocks_returns.dot(weights)\n",
    "\n",
    "# Convert the Series to a DataFrame\n",
    "\n",
    "df_lucrative_stocks_weighted_returns = df_lucrative_stocks_weighted_returns.to_frame()\n",
    "\n",
    "# Rename the column \n",
    "\n",
    "df_lucrative_stocks_weighted_returns.columns = ['Lucrative_Stocks']\n",
    "\n",
    "# Join the lucrative stocks portfolio returns to the DataFrame with Whale, Algo and S&P 500 returns\n",
    "\n",
    "df_combined = pd.concat([df_whale_returns, df_algo_returns, df_sp500_returns, df_lucrative_stocks_weighted_returns], axis='columns', join='inner')\n"
   ]
  }
 ],
 "metadata": {
  "kernelspec": {
   "display_name": "Python 3 (ipykernel)",
   "language": "python",
   "name": "python3"
  },
  "language_info": {
   "codemirror_mode": {
    "name": "ipython",
    "version": 3
   },
   "file_extension": ".py",
   "mimetype": "text/x-python",
   "name": "python",
   "nbconvert_exporter": "python",
   "pygments_lexer": "ipython3",
   "version": "3.9.13"
  }
 },
 "nbformat": 4,
 "nbformat_minor": 5
}
